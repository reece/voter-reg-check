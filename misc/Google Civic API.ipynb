{
 "cells": [
  {
   "cell_type": "markdown",
   "metadata": {},
   "source": [
    "# Google Civic API\n",
    "https://developers.google.com/civic-information/docs/using_api"
   ]
  },
  {
   "cell_type": "code",
   "execution_count": 2,
   "metadata": {},
   "outputs": [],
   "source": [
    "import json\n",
    "import os\n",
    "import requests"
   ]
  },
  {
   "cell_type": "code",
   "execution_count": 3,
   "metadata": {},
   "outputs": [],
   "source": [
    "# get a key at https://console.developers.google.com/apis/credentials\n",
    "google_api_key = json.load(open(\"../private/google-civic-api.json\"))[\"api_key\"]"
   ]
  },
  {
   "cell_type": "code",
   "execution_count": 4,
   "metadata": {},
   "outputs": [],
   "source": [
    "google_session = requests.Session()\n",
    "google_session.params.update({\"key\": google_api_key})"
   ]
  },
  {
   "cell_type": "markdown",
   "metadata": {},
   "source": [
    "## Elections"
   ]
  },
  {
   "cell_type": "code",
   "execution_count": 5,
   "metadata": {},
   "outputs": [],
   "source": [
    "elections_resp = google_session.get(\"https://www.googleapis.com/civicinfo/v2/elections\")\n",
    "elections_resp.raise_for_status()\n",
    "elections = elections_resp.json()"
   ]
  },
  {
   "cell_type": "code",
   "execution_count": 6,
   "metadata": {},
   "outputs": [
    {
     "data": {
      "text/plain": [
       "dict_keys(['elections', 'kind'])"
      ]
     },
     "execution_count": 6,
     "metadata": {},
     "output_type": "execute_result"
    }
   ],
   "source": [
    "elections.keys()"
   ]
  },
  {
   "cell_type": "code",
   "execution_count": 7,
   "metadata": {},
   "outputs": [
    {
     "data": {
      "text/plain": [
       "10"
      ]
     },
     "execution_count": 7,
     "metadata": {},
     "output_type": "execute_result"
    }
   ],
   "source": [
    "len(elections[\"elections\"])"
   ]
  },
  {
   "cell_type": "code",
   "execution_count": 8,
   "metadata": {},
   "outputs": [
    {
     "data": {
      "text/plain": [
       "[{'id': '2000',\n",
       "  'name': 'VIP Test Election',\n",
       "  'electionDay': '2021-06-06',\n",
       "  'ocdDivisionId': 'ocd-division/country:us'},\n",
       " {'id': '4953',\n",
       "  'name': 'Louisiana Municipal General Election',\n",
       "  'electionDay': '2020-08-15',\n",
       "  'ocdDivisionId': 'ocd-division/country:us/state:la'},\n",
       " {'id': '4979',\n",
       "  'name': 'Georgia General Primary Runoff Election',\n",
       "  'electionDay': '2020-08-11',\n",
       "  'ocdDivisionId': 'ocd-division/country:us/state:ga'},\n",
       " {'id': '5003',\n",
       "  'name': 'Michigan State Primary Election',\n",
       "  'electionDay': '2020-08-04',\n",
       "  'ocdDivisionId': 'ocd-division/country:us/state:mi'},\n",
       " {'id': '5005',\n",
       "  'name': 'Washington State Primary Election',\n",
       "  'electionDay': '2020-08-04',\n",
       "  'ocdDivisionId': 'ocd-division/country:us/state:wa'},\n",
       " {'id': '5007',\n",
       "  'name': 'Minnesota State Primary Election',\n",
       "  'electionDay': '2020-08-11',\n",
       "  'ocdDivisionId': 'ocd-division/country:us/state:mn'},\n",
       " {'id': '5008',\n",
       "  'name': 'Vermont State Primary Election',\n",
       "  'electionDay': '2020-08-11',\n",
       "  'ocdDivisionId': 'ocd-division/country:us/state:vt'},\n",
       " {'id': '5009',\n",
       "  'name': 'Wisconsin State Primary Election',\n",
       "  'electionDay': '2020-08-11',\n",
       "  'ocdDivisionId': 'ocd-division/country:us/state:wi'},\n",
       " {'id': '5010',\n",
       "  'name': 'Hawaii State Primary Election',\n",
       "  'electionDay': '2020-08-08',\n",
       "  'ocdDivisionId': 'ocd-division/country:us/state:hi'},\n",
       " {'id': '5020',\n",
       "  'name': 'Alabama House District 49 Special Primary Election',\n",
       "  'electionDay': '2020-08-04',\n",
       "  'ocdDivisionId': 'ocd-division/country:us/state:al'}]"
      ]
     },
     "execution_count": 8,
     "metadata": {},
     "output_type": "execute_result"
    }
   ],
   "source": [
    "elections[\"elections\"]"
   ]
  },
  {
   "cell_type": "markdown",
   "metadata": {},
   "source": [
    "## VoterInfo"
   ]
  },
  {
   "cell_type": "code",
   "execution_count": 33,
   "metadata": {},
   "outputs": [],
   "source": [
    "# N.B. I'm using 2000 from the demo\n",
    "# The docs imply that electionId should be determined by a prior query to the elections\n",
    "# endpoint. \n",
    "election_id = 2000\n",
    "\n",
    "voterinfo_resp = google_session.get(\"https://www.googleapis.com/civicinfo/v2/voterinfo\",\n",
    "                                    params={\"address\":\"1 Sussex St., 94131\",\n",
    "                                            \"electionId\": election_id\n",
    "                                           })\n",
    "voterinfo_resp.raise_for_status()\n",
    "voterinfo = voterinfo_resp.json()"
   ]
  },
  {
   "cell_type": "code",
   "execution_count": 18,
   "metadata": {},
   "outputs": [
    {
     "data": {
      "text/plain": [
       "['contests',\n",
       " 'election',\n",
       " 'kind',\n",
       " 'normalizedInput',\n",
       " 'pollingLocations',\n",
       " 'state']"
      ]
     },
     "execution_count": 18,
     "metadata": {},
     "output_type": "execute_result"
    }
   ],
   "source": [
    "sorted(voterinfo.keys())"
   ]
  },
  {
   "cell_type": "markdown",
   "metadata": {},
   "source": [
    "### Transparent responses: election, kind, normalizedInput, pollingLocations, state"
   ]
  },
  {
   "cell_type": "code",
   "execution_count": 14,
   "metadata": {
    "scrolled": true
   },
   "outputs": [
    {
     "data": {
      "text/plain": [
       "{'id': '2000',\n",
       " 'name': 'VIP Test Election',\n",
       " 'electionDay': '2021-06-06',\n",
       " 'ocdDivisionId': 'ocd-division/country:us'}"
      ]
     },
     "execution_count": 14,
     "metadata": {},
     "output_type": "execute_result"
    }
   ],
   "source": [
    "voterinfo[\"election\"]"
   ]
  },
  {
   "cell_type": "code",
   "execution_count": 19,
   "metadata": {},
   "outputs": [
    {
     "data": {
      "text/plain": [
       "'civicinfo#voterInfoResponse'"
      ]
     },
     "execution_count": 19,
     "metadata": {},
     "output_type": "execute_result"
    }
   ],
   "source": [
    "voterinfo[\"kind\"]"
   ]
  },
  {
   "cell_type": "code",
   "execution_count": 11,
   "metadata": {},
   "outputs": [
    {
     "data": {
      "text/plain": [
       "{'line1': '1 Sussex Street',\n",
       " 'city': 'San Francisco',\n",
       " 'state': 'CA',\n",
       " 'zip': '94131'}"
      ]
     },
     "execution_count": 11,
     "metadata": {},
     "output_type": "execute_result"
    }
   ],
   "source": [
    "voterinfo[\"normalizedInput\"]"
   ]
  },
  {
   "cell_type": "code",
   "execution_count": 12,
   "metadata": {},
   "outputs": [
    {
     "data": {
      "text/plain": [
       "[{'address': {'locationName': 'Garage',\n",
       "   'line1': '742 Chenery St',\n",
       "   'city': 'San Francisco',\n",
       "   'state': 'CA',\n",
       "   'zip': '94131-2907'},\n",
       "  'notes': 'Btw Lippard & Brompton Ave',\n",
       "  'pollingHours': '07:00-20:00',\n",
       "  'sources': [{'name': 'Voting Information Project', 'official': True}]}]"
      ]
     },
     "execution_count": 12,
     "metadata": {},
     "output_type": "execute_result"
    }
   ],
   "source": [
    "voterinfo[\"pollingLocations\"]"
   ]
  },
  {
   "cell_type": "code",
   "execution_count": 13,
   "metadata": {},
   "outputs": [
    {
     "data": {
      "text/plain": [
       "[{'name': 'California',\n",
       "  'electionAdministrationBody': {'name': 'California Secretary of State',\n",
       "   'electionInfoUrl': 'http://www.sos.ca.gov/elections',\n",
       "   'votingLocationFinderUrl': 'https://www.sos.ca.gov/elections/polling-place/',\n",
       "   'ballotInfoUrl': 'https://www.sos.ca.gov/elections/polling-place/',\n",
       "   'correspondenceAddress': {'line1': '1500 11th Street',\n",
       "    'city': 'Sacramento',\n",
       "    'state': 'California',\n",
       "    'zip': '95814-5701'}},\n",
       "  'local_jurisdiction': {'name': 'San Francisco County',\n",
       "   'electionAdministrationBody': {'electionInfoUrl': 'http://sfelections.org',\n",
       "    'physicalAddress': {'line1': 'CITY HALL - 1 DR. CARLTON B GOODLETT PLACE, ROOM 48',\n",
       "     'city': 'SAN FRANCISCO',\n",
       "     'state': 'CA',\n",
       "     'zip': '94102-4635'},\n",
       "    'electionOfficials': [{'officePhoneNumber': '(415) 554-4375',\n",
       "      'emailAddress': 'sfvote@sfgov.org'}]},\n",
       "   'sources': [{'name': 'DemocracyWorks', 'official': False}]},\n",
       "  'sources': [{'name': '', 'official': False}]}]"
      ]
     },
     "execution_count": 13,
     "metadata": {},
     "output_type": "execute_result"
    }
   ],
   "source": [
    "voterinfo[\"state\"]"
   ]
  },
  {
   "cell_type": "markdown",
   "metadata": {},
   "source": [
    "### contests"
   ]
  },
  {
   "cell_type": "code",
   "execution_count": 20,
   "metadata": {},
   "outputs": [
    {
     "data": {
      "text/plain": [
       "[{'type': 'General',\n",
       "  'office': 'US House - District 12',\n",
       "  'level': ['country'],\n",
       "  'roles': ['legislatorLowerBody'],\n",
       "  'district': {'name': \"California's 12th congressional district\",\n",
       "   'scope': 'congressional',\n",
       "   'id': 'ocd-division/country:us/state:ca/cd:12'},\n",
       "  'sources': [{'name': 'Ballot Information Project', 'official': False}],\n",
       "  'candidates': [{'name': 'Nancy Pelosi', 'party': 'Democratic'},\n",
       "   {'name': 'John Dennis',\n",
       "    'party': 'Republican',\n",
       "    'candidateUrl': 'http://www.johndennisforcongress.com/',\n",
       "    'channels': [{'type': 'Facebook',\n",
       "      'id': 'https://www.facebook.com/johndennis2010'},\n",
       "     {'type': 'Twitter', 'id': 'https://twitter.com/johndennis2012'}]}]},\n",
       " {'type': 'General',\n",
       "  'office': 'Governor',\n",
       "  'level': ['administrativeArea1'],\n",
       "  'roles': ['headOfGovernment'],\n",
       "  'district': {'name': 'California',\n",
       "   'scope': 'statewide',\n",
       "   'id': 'ocd-division/country:us/state:ca'},\n",
       "  'sources': [{'name': 'Ballot Information Project', 'official': False}],\n",
       "  'candidates': [{'name': 'Edmund G. \"Jerry\" Brown',\n",
       "    'party': 'Democratic',\n",
       "    'channels': [{'type': 'Facebook',\n",
       "      'id': 'https://www.facebook.com/jerrybrown'},\n",
       "     {'type': 'Twitter', 'id': 'https://twitter.com/JerryBrownGov'},\n",
       "     {'type': 'YouTube',\n",
       "      'id': 'https://www.youtube.com/user/JerryBrown2010'}]},\n",
       "   {'name': 'Neel Kashkari',\n",
       "    'party': 'Republican',\n",
       "    'candidateUrl': 'http://www.neelkashkari.com/',\n",
       "    'channels': [{'type': 'Facebook',\n",
       "      'id': 'https://www.facebook.com/neelkashkari'},\n",
       "     {'type': 'Twitter', 'id': 'https://twitter.com/neelkashkari'},\n",
       "     {'type': 'YouTube',\n",
       "      'id': 'https://www.youtube.com/channel/UCGhIiUj05N8mlUNeiKbYfsA'}]}]},\n",
       " {'type': 'General',\n",
       "  'office': 'Lieutenant Governor',\n",
       "  'level': ['administrativeArea1'],\n",
       "  'roles': ['deputyHeadOfGovernment'],\n",
       "  'district': {'name': 'California',\n",
       "   'scope': 'statewide',\n",
       "   'id': 'ocd-division/country:us/state:ca'},\n",
       "  'sources': [{'name': 'Ballot Information Project', 'official': False}],\n",
       "  'candidates': [{'name': 'Ron Nehring',\n",
       "    'party': 'Republican',\n",
       "    'candidateUrl': 'http://www.ronnehring.com/',\n",
       "    'channels': [{'type': 'Facebook',\n",
       "      'id': 'https://www.facebook.com/RonNehringCA'},\n",
       "     {'type': 'Twitter', 'id': 'https://twitter.com/RonNehring'},\n",
       "     {'type': 'YouTube',\n",
       "      'id': 'https://www.youtube.com/channel/UCFGwCF7iZWLP-j0dFWORvGQ'}]},\n",
       "   {'name': 'Gavin Newsom',\n",
       "    'party': 'Democratic',\n",
       "    'candidateUrl': 'http://www.gavinnewsom.com/',\n",
       "    'phone': '(415) 963-9240',\n",
       "    'email': 'gavin@gavinnewsom.com',\n",
       "    'channels': [{'type': 'Facebook',\n",
       "      'id': 'https://www.facebook.com/GavinNewsom'},\n",
       "     {'type': 'Twitter', 'id': 'https://twitter.com/GavinNewsom'},\n",
       "     {'type': 'YouTube',\n",
       "      'id': 'https://www.youtube.com/user/NewsomforCalifornia'}]}]},\n",
       " {'type': 'General',\n",
       "  'office': 'Controller',\n",
       "  'level': ['administrativeArea1'],\n",
       "  'roles': ['governmentOfficer'],\n",
       "  'district': {'name': 'California',\n",
       "   'scope': 'statewide',\n",
       "   'id': 'ocd-division/country:us/state:ca'},\n",
       "  'sources': [{'name': 'Ballot Information Project', 'official': False}],\n",
       "  'candidates': [{'name': 'Ashley Swearengin',\n",
       "    'party': 'Republican',\n",
       "    'candidateUrl': 'http://www.ashleyforca.com/',\n",
       "    'phone': '(559) 565-5066',\n",
       "    'channels': [{'type': 'Facebook',\n",
       "      'id': 'https://www.facebook.com/ashleyswearengin'},\n",
       "     {'type': 'Twitter', 'id': 'https://twitter.com/Ashley4CA'},\n",
       "     {'type': 'YouTube',\n",
       "      'id': 'https://www.youtube.com/channel/UC9Tc_GLpw5X7t_gg-Q51eKw'}]},\n",
       "   {'name': 'Betty T. Yee',\n",
       "    'party': 'Democratic',\n",
       "    'candidateUrl': 'http://bettyyee.com/',\n",
       "    'phone': '(415) 692-3556',\n",
       "    'email': 'info@bettyyee.com',\n",
       "    'channels': [{'type': 'Facebook',\n",
       "      'id': 'https://www.facebook.com/BettyYee2014'},\n",
       "     {'type': 'Twitter', 'id': 'https://twitter.com/bettyyee2014'}]}]},\n",
       " {'type': 'General',\n",
       "  'office': 'Secretary of State',\n",
       "  'level': ['administrativeArea1'],\n",
       "  'roles': ['governmentOfficer'],\n",
       "  'district': {'name': 'California',\n",
       "   'scope': 'statewide',\n",
       "   'id': 'ocd-division/country:us/state:ca'},\n",
       "  'sources': [{'name': 'Ballot Information Project', 'official': False}],\n",
       "  'candidates': [{'name': 'Alex Padilla',\n",
       "    'party': 'Democratic',\n",
       "    'candidateUrl': 'http://www.padilla4sofs.com/',\n",
       "    'phone': '818-253-9140',\n",
       "    'channels': [{'type': 'Facebook',\n",
       "      'id': 'https://www.facebook.com/senator.padilla'},\n",
       "     {'type': 'Twitter', 'id': 'https://twitter.com/SenAlexPadilla'},\n",
       "     {'type': 'YouTube',\n",
       "      'id': 'https://www.youtube.com/channel/UC8iDXwFo62EvFaNIrQln0vA'}]},\n",
       "   {'name': 'Pete Peterson',\n",
       "    'party': 'Republican',\n",
       "    'candidateUrl': 'http://www.petesos.com/',\n",
       "    'phone': '323-450-7536',\n",
       "    'email': 'campaign@petesos.com',\n",
       "    'channels': [{'type': 'Facebook',\n",
       "      'id': 'https://www.facebook.com/PeteSOS'},\n",
       "     {'type': 'Twitter', 'id': 'https://twitter.com/Pete4SOS'}]}]},\n",
       " {'type': 'General',\n",
       "  'office': 'Attorney General',\n",
       "  'level': ['administrativeArea1'],\n",
       "  'roles': ['governmentOfficer'],\n",
       "  'district': {'name': 'California',\n",
       "   'scope': 'statewide',\n",
       "   'id': 'ocd-division/country:us/state:ca'},\n",
       "  'sources': [{'name': 'Ballot Information Project', 'official': False}],\n",
       "  'candidates': [{'name': 'Ronald Gold',\n",
       "    'party': 'Republican',\n",
       "    'candidateUrl': 'http://www.rongold.org/',\n",
       "    'channels': [{'type': 'YouTube',\n",
       "      'id': 'https://www.youtube.com/channel/UC1Od8iX56vySEzXQJ3O8SMw'}]},\n",
       "   {'name': 'Kamala D. Harris',\n",
       "    'party': 'Democratic',\n",
       "    'candidateUrl': 'http://kamalaharris.org/',\n",
       "    'phone': '(415) 364-8784',\n",
       "    'email': 'info@kamalaharris.org',\n",
       "    'channels': [{'type': 'Facebook',\n",
       "      'id': 'https://www.facebook.com/KamalaHarris'},\n",
       "     {'type': 'Twitter', 'id': 'https://twitter.com/KamalaHarris'},\n",
       "     {'type': 'YouTube',\n",
       "      'id': 'https://www.youtube.com/user/kamalaharrisdotorg'}]}]},\n",
       " {'type': 'General',\n",
       "  'office': 'Treasurer',\n",
       "  'level': ['administrativeArea1'],\n",
       "  'roles': ['governmentOfficer'],\n",
       "  'district': {'name': 'California',\n",
       "   'scope': 'statewide',\n",
       "   'id': 'ocd-division/country:us/state:ca'},\n",
       "  'sources': [{'name': 'Ballot Information Project', 'official': False}],\n",
       "  'candidates': [{'name': 'John Chiang',\n",
       "    'party': 'Democratic',\n",
       "    'candidateUrl': 'http://www.electjohnchiang.com/',\n",
       "    'email': 'ElectJohnChiang@gmail.com',\n",
       "    'channels': [{'type': 'Facebook',\n",
       "      'id': 'https://www.facebook.com/22930503694'},\n",
       "     {'type': 'Twitter', 'id': 'https://twitter.com/johnchiang4ca'},\n",
       "     {'type': 'YouTube', 'id': 'https://www.youtube.com/user/JohnChiang4CA'}]},\n",
       "   {'name': 'Greg Conlon',\n",
       "    'party': 'Republican',\n",
       "    'candidateUrl': 'http://www.gregconlon.com/',\n",
       "    'phone': '916-850-2782',\n",
       "    'email': 'gregconlonforstatetreasurer@yahoo.com',\n",
       "    'channels': [{'type': 'Facebook',\n",
       "      'id': 'https://www.facebook.com/gregconlonforstatetreasurer'},\n",
       "     {'type': 'Twitter', 'id': 'https://twitter.com/GregConlon'},\n",
       "     {'type': 'YouTube',\n",
       "      'id': 'https://www.youtube.com/channel/UClllihMKVeAvNVsdYmo-frg'}]}]},\n",
       " {'type': 'General',\n",
       "  'office': 'Superintendent of Public Instruction',\n",
       "  'level': ['administrativeArea1'],\n",
       "  'roles': ['governmentOfficer'],\n",
       "  'district': {'name': 'California',\n",
       "   'scope': 'statewide',\n",
       "   'id': 'ocd-division/country:us/state:ca'},\n",
       "  'sources': [{'name': 'Ballot Information Project', 'official': False}],\n",
       "  'candidates': [{'name': 'Tom Torlakson',\n",
       "    'party': 'Nonpartisan',\n",
       "    'candidateUrl': 'http://www.tomtorlakson.com/',\n",
       "    'phone': '925-386-6774',\n",
       "    'channels': [{'type': 'Facebook',\n",
       "      'id': 'https://www.facebook.com/torlakson'},\n",
       "     {'type': 'Twitter', 'id': 'https://twitter.com/TomTorlakson'},\n",
       "     {'type': 'YouTube', 'id': 'https://www.youtube.com/user/tomtorlakson'}]},\n",
       "   {'name': 'Marshall Tuck',\n",
       "    'party': 'Nonpartisan',\n",
       "    'candidateUrl': 'http://www.marshalltuck.com/',\n",
       "    'channels': [{'type': 'Facebook',\n",
       "      'id': 'https://www.facebook.com/TuckforCalifornia'},\n",
       "     {'type': 'Twitter', 'id': 'https://twitter.com/MarshallTuck'},\n",
       "     {'type': 'YouTube',\n",
       "      'id': 'https://www.youtube.com/channel/UCAd4z6Ea8kBxxI-O0f1SbiA'}]}]},\n",
       " {'type': 'General',\n",
       "  'office': 'Insurance Commissioner',\n",
       "  'level': ['administrativeArea1'],\n",
       "  'roles': ['governmentOfficer'],\n",
       "  'district': {'name': 'California',\n",
       "   'scope': 'statewide',\n",
       "   'id': 'ocd-division/country:us/state:ca'},\n",
       "  'sources': [{'name': 'Ballot Information Project', 'official': False}],\n",
       "  'candidates': [{'name': 'Ted Gaines',\n",
       "    'party': 'Republican',\n",
       "    'candidateUrl': 'http://www.tedgaines.com/',\n",
       "    'phone': '916-221-5770',\n",
       "    'channels': [{'type': 'Facebook',\n",
       "      'id': 'https://www.facebook.com/ted.gaines'},\n",
       "     {'type': 'Twitter', 'id': 'https://twitter.com/TedGaines'},\n",
       "     {'type': 'YouTube',\n",
       "      'id': 'https://www.youtube.com/user/GainesForIC2014'}]},\n",
       "   {'name': 'Dave Jones',\n",
       "    'party': 'Democratic',\n",
       "    'candidateUrl': 'http://www.davejones2014.com/',\n",
       "    'phone': '(916) 349-4236',\n",
       "    'email': 'TeamDaveJones@gmail.com',\n",
       "    'channels': [{'type': 'Facebook',\n",
       "      'id': 'https://www.facebook.com/239029093423'}]}]},\n",
       " {'type': 'General',\n",
       "  'office': 'Supreme Court Associate Justice (Retention)',\n",
       "  'level': ['administrativeArea1'],\n",
       "  'roles': ['highestCourtJudge'],\n",
       "  'district': {'name': 'California',\n",
       "   'scope': 'statewide',\n",
       "   'id': 'ocd-division/country:us/state:ca'},\n",
       "  'sources': [{'name': 'Ballot Information Project', 'official': False}],\n",
       "  'candidates': [{'name': 'Goodwin Liu', 'party': 'Nonpartisan'},\n",
       "   {'name': 'Kathryn Mickle Werdegar', 'party': 'Nonpartisan'},\n",
       "   {'name': 'Mariano-Florentino Cuellar', 'party': 'Nonpartisan'}]},\n",
       " {'type': 'General',\n",
       "  'office': 'State Assembly -  District 17',\n",
       "  'level': ['administrativeArea1'],\n",
       "  'roles': ['legislatorLowerBody'],\n",
       "  'district': {'name': 'California Assembly district 17',\n",
       "   'scope': 'stateLower',\n",
       "   'id': 'ocd-division/country:us/state:ca/sldl:17'},\n",
       "  'sources': [{'name': 'Ballot Information Project', 'official': False}],\n",
       "  'candidates': [{'name': 'David Campos',\n",
       "    'party': 'Democratic',\n",
       "    'candidateUrl': 'http://www.davidcampossf.com/',\n",
       "    'channels': [{'type': 'Facebook',\n",
       "      'id': 'https://www.facebook.com/davidcampossf'},\n",
       "     {'type': 'Twitter', 'id': 'https://twitter.com/davidcampossf'}]},\n",
       "   {'name': 'David Chiu',\n",
       "    'party': 'Democratic',\n",
       "    'candidateUrl': 'http://www.votedavidchiu.com/',\n",
       "    'channels': [{'type': 'Facebook',\n",
       "      'id': 'https://www.facebook.com/davidchiu.sf'},\n",
       "     {'type': 'Twitter', 'id': 'https://twitter.com/davidchiu'}]}]},\n",
       " {'type': 'General',\n",
       "  'office': 'Public Defender',\n",
       "  'level': ['administrativeArea2'],\n",
       "  'roles': ['governmentOfficer'],\n",
       "  'district': {'name': 'San Francisco County',\n",
       "   'scope': 'countywide',\n",
       "   'id': 'ocd-division/country:us/state:ca/county:san_francisco'},\n",
       "  'sources': [{'name': 'Ballot Information Project', 'official': False}],\n",
       "  'candidates': [{'name': 'Jeff Adachi', 'party': 'Nonpartisan'}]},\n",
       " {'type': 'General',\n",
       "  'office': 'Assessor/Recorder',\n",
       "  'level': ['administrativeArea2'],\n",
       "  'roles': ['governmentOfficer'],\n",
       "  'district': {'name': 'San Francisco County',\n",
       "   'scope': 'countywide',\n",
       "   'id': 'ocd-division/country:us/state:ca/county:san_francisco'},\n",
       "  'sources': [{'name': 'Ballot Information Project', 'official': False}],\n",
       "  'candidates': [{'name': 'Carmen Chu', 'party': 'Nonpartisan'}]},\n",
       " {'type': 'General',\n",
       "  'office': 'Supervisor District 8',\n",
       "  'level': ['administrativeArea2'],\n",
       "  'roles': ['legislatorUpperBody'],\n",
       "  'district': {'name': 'San Francisco CA city-county council district 8',\n",
       "   'scope': 'countyCouncil',\n",
       "   'id': 'ocd-division/country:us/state:ca/county:san_francisco/council_district:8'},\n",
       "  'sources': [{'name': 'Ballot Information Project', 'official': False}],\n",
       "  'candidates': [{'name': 'George Davis', 'party': 'Nonpartisan'},\n",
       "   {'name': 'John Nulty',\n",
       "    'party': 'Nonpartisan',\n",
       "    'channels': [{'type': 'Facebook',\n",
       "      'id': 'https://www.facebook.com/johnnultysupervisor'}]},\n",
       "   {'name': 'Michael Petrelis',\n",
       "    'party': 'Nonpartisan',\n",
       "    'channels': [{'type': 'Facebook',\n",
       "      'id': 'https://www.facebook.com/petrelis4supe8'}]},\n",
       "   {'name': 'Scott Wiener', 'party': 'Nonpartisan'},\n",
       "   {'name': 'Tom Wayne Basso', 'party': 'Nonpartisan'}]},\n",
       " {'type': 'Referendum',\n",
       "  'district': {'name': 'California',\n",
       "   'scope': 'statewide',\n",
       "   'id': 'ocd-division/country:us/state:ca'},\n",
       "  'referendumTitle': 'Proposition 1',\n",
       "  'referendumSubtitle': 'Water Bond. Funding for Water Quality, Supply, Treatment, and Storage Projects.',\n",
       "  'referendumUrl': 'http://vig.cdn.sos.ca.gov/2014/general/en/pdf/proposition-1-title-summary-analysis-v2.pdf',\n",
       "  'sources': [{'name': 'Ballot Information Project', 'official': False}]},\n",
       " {'type': 'Referendum',\n",
       "  'district': {'name': 'California',\n",
       "   'scope': 'statewide',\n",
       "   'id': 'ocd-division/country:us/state:ca'},\n",
       "  'referendumTitle': 'Proposition 2',\n",
       "  'referendumSubtitle': 'State Budget. Budget Stabilization Account. Legislative Constitutional Amendment.',\n",
       "  'referendumUrl': 'http://vig.cdn.sos.ca.gov/2014/general/en/pdf/proposition-2-title-summary-analysis.pdf',\n",
       "  'sources': [{'name': 'Ballot Information Project', 'official': False}]},\n",
       " {'type': 'Referendum',\n",
       "  'district': {'name': 'California',\n",
       "   'scope': 'statewide',\n",
       "   'id': 'ocd-division/country:us/state:ca'},\n",
       "  'referendumTitle': 'Proposition 45',\n",
       "  'referendumSubtitle': 'Healthcare Insurance. Rate Changes. Initiative Statute.',\n",
       "  'referendumUrl': 'http://vig.cdn.sos.ca.gov/2014/general/en/pdf/proposition-45-title-summary-analysis.pdf',\n",
       "  'sources': [{'name': 'Ballot Information Project', 'official': False}]},\n",
       " {'type': 'Referendum',\n",
       "  'district': {'name': 'California',\n",
       "   'scope': 'statewide',\n",
       "   'id': 'ocd-division/country:us/state:ca'},\n",
       "  'referendumTitle': 'Proposition 46',\n",
       "  'referendumSubtitle': 'Drug and Alcohol Testing of Doctors. Medical Negligence Lawsuits. Initiative Statute.',\n",
       "  'referendumUrl': 'http://vig.cdn.sos.ca.gov/2014/general/en/pdf/proposition-46-title-summary-analysis.pdf',\n",
       "  'sources': [{'name': 'Ballot Information Project', 'official': False}]},\n",
       " {'type': 'Referendum',\n",
       "  'district': {'name': 'California',\n",
       "   'scope': 'statewide',\n",
       "   'id': 'ocd-division/country:us/state:ca'},\n",
       "  'referendumTitle': 'Proposition 47',\n",
       "  'referendumSubtitle': 'Criminal Sentences. Misdemeanor Penalties. Initiative Statute.',\n",
       "  'referendumUrl': 'http://vig.cdn.sos.ca.gov/2014/general/en/pdf/proposition-47-title-summary-analysis.pdf',\n",
       "  'sources': [{'name': 'Ballot Information Project', 'official': False}]},\n",
       " {'type': 'Referendum',\n",
       "  'district': {'name': 'California',\n",
       "   'scope': 'statewide',\n",
       "   'id': 'ocd-division/country:us/state:ca'},\n",
       "  'referendumTitle': 'Proposition 48',\n",
       "  'referendumSubtitle': 'Indian Gaming Compacts. Referendum.',\n",
       "  'referendumUrl': 'http://vig.cdn.sos.ca.gov/2014/general/en/pdf/proposition-48-title-summary-analysis.pdf',\n",
       "  'sources': [{'name': 'Ballot Information Project', 'official': False}]}]"
      ]
     },
     "execution_count": 20,
     "metadata": {},
     "output_type": "execute_result"
    }
   ],
   "source": [
    "voterinfo[\"contests\"]"
   ]
  },
  {
   "cell_type": "code",
   "execution_count": 21,
   "metadata": {},
   "outputs": [
    {
     "data": {
      "text/plain": [
       "20"
      ]
     },
     "execution_count": 21,
     "metadata": {},
     "output_type": "execute_result"
    }
   ],
   "source": [
    "len(voterinfo[\"contests\"])"
   ]
  },
  {
   "cell_type": "code",
   "execution_count": 23,
   "metadata": {},
   "outputs": [],
   "source": [
    "from IPython.display import HTML, display\n",
    "import tabulate\n",
    "def display_table(data):\n",
    "    display(HTML(tabulate.tabulate(data, tablefmt='html')))"
   ]
  },
  {
   "cell_type": "code",
   "execution_count": 28,
   "metadata": {},
   "outputs": [
    {
     "data": {
      "text/html": [
       "<table>\n",
       "<tbody>\n",
       "<tr><td>General   </td><td>US House - District 12                     </td><td>ocd-division/country:us/state:ca/cd:12                                  </td></tr>\n",
       "<tr><td>General   </td><td>Governor                                   </td><td>ocd-division/country:us/state:ca                                        </td></tr>\n",
       "<tr><td>General   </td><td>Lieutenant Governor                        </td><td>ocd-division/country:us/state:ca                                        </td></tr>\n",
       "<tr><td>General   </td><td>Controller                                 </td><td>ocd-division/country:us/state:ca                                        </td></tr>\n",
       "<tr><td>General   </td><td>Secretary of State                         </td><td>ocd-division/country:us/state:ca                                        </td></tr>\n",
       "<tr><td>General   </td><td>Attorney General                           </td><td>ocd-division/country:us/state:ca                                        </td></tr>\n",
       "<tr><td>General   </td><td>Treasurer                                  </td><td>ocd-division/country:us/state:ca                                        </td></tr>\n",
       "<tr><td>General   </td><td>Superintendent of Public Instruction       </td><td>ocd-division/country:us/state:ca                                        </td></tr>\n",
       "<tr><td>General   </td><td>Insurance Commissioner                     </td><td>ocd-division/country:us/state:ca                                        </td></tr>\n",
       "<tr><td>General   </td><td>Supreme Court Associate Justice (Retention)</td><td>ocd-division/country:us/state:ca                                        </td></tr>\n",
       "<tr><td>General   </td><td>State Assembly -  District 17              </td><td>ocd-division/country:us/state:ca/sldl:17                                </td></tr>\n",
       "<tr><td>General   </td><td>Public Defender                            </td><td>ocd-division/country:us/state:ca/county:san_francisco                   </td></tr>\n",
       "<tr><td>General   </td><td>Assessor/Recorder                          </td><td>ocd-division/country:us/state:ca/county:san_francisco                   </td></tr>\n",
       "<tr><td>General   </td><td>Supervisor District 8                      </td><td>ocd-division/country:us/state:ca/county:san_francisco/council_district:8</td></tr>\n",
       "<tr><td>Referendum</td><td>                                           </td><td>ocd-division/country:us/state:ca                                        </td></tr>\n",
       "<tr><td>Referendum</td><td>                                           </td><td>ocd-division/country:us/state:ca                                        </td></tr>\n",
       "<tr><td>Referendum</td><td>                                           </td><td>ocd-division/country:us/state:ca                                        </td></tr>\n",
       "<tr><td>Referendum</td><td>                                           </td><td>ocd-division/country:us/state:ca                                        </td></tr>\n",
       "<tr><td>Referendum</td><td>                                           </td><td>ocd-division/country:us/state:ca                                        </td></tr>\n",
       "<tr><td>Referendum</td><td>                                           </td><td>ocd-division/country:us/state:ca                                        </td></tr>\n",
       "</tbody>\n",
       "</table>"
      ],
      "text/plain": [
       "<IPython.core.display.HTML object>"
      ]
     },
     "metadata": {},
     "output_type": "display_data"
    }
   ],
   "source": [
    "display_table([(c[\"type\"], c.get(\"office\"), c[\"district\"][\"id\"]) for c in voterinfo[\"contests\"]])"
   ]
  },
  {
   "cell_type": "code",
   "execution_count": null,
   "metadata": {},
   "outputs": [],
   "source": []
  }
 ],
 "metadata": {
  "kernelspec": {
   "display_name": "Python 3",
   "language": "python",
   "name": "python3"
  },
  "language_info": {
   "codemirror_mode": {
    "name": "ipython",
    "version": 3
   },
   "file_extension": ".py",
   "mimetype": "text/x-python",
   "name": "python",
   "nbconvert_exporter": "python",
   "pygments_lexer": "ipython3",
   "version": "3.8.2"
  }
 },
 "nbformat": 4,
 "nbformat_minor": 4
}
