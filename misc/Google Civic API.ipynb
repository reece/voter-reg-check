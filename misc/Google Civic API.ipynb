{
 "cells": [
  {
   "cell_type": "markdown",
   "metadata": {},
   "source": [
    "# Google Civic API\n",
    "https://developers.google.com/civic-information/docs/using_api\n",
    "\n",
    "Notes:\n",
    "* voterinfo returns a subset of documented info. I assume that Google is still populating\n",
    "* normalizedInput does *NOT* validate addresses\n"
   ]
  },
  {
   "cell_type": "code",
   "execution_count": 60,
   "metadata": {},
   "outputs": [],
   "source": [
    "import json\n",
    "import os\n",
    "import pprint\n",
    "import requests\n",
    "\n",
    "from IPython.display import HTML, Markdown, display\n",
    "import tabulate"
   ]
  },
  {
   "cell_type": "code",
   "execution_count": 41,
   "metadata": {},
   "outputs": [],
   "source": [
    "# get a key at https://console.developers.google.com/apis/credentials\n",
    "creds_fn = os.path.expanduser(\"~/.credentials/google-civic-api.json\")\n",
    "google_api_key = json.load(open(creds_fn))[\"api_key\"]"
   ]
  },
  {
   "cell_type": "code",
   "execution_count": 42,
   "metadata": {},
   "outputs": [],
   "source": [
    "google_session = requests.Session()\n",
    "google_session.params.update({\"key\": google_api_key})"
   ]
  },
  {
   "cell_type": "markdown",
   "metadata": {},
   "source": [
    "## Elections"
   ]
  },
  {
   "cell_type": "code",
   "execution_count": 43,
   "metadata": {},
   "outputs": [],
   "source": [
    "elections_resp = google_session.get(\"https://www.googleapis.com/civicinfo/v2/elections\")\n",
    "elections_resp.raise_for_status()\n",
    "elections = elections_resp.json()"
   ]
  },
  {
   "cell_type": "code",
   "execution_count": 44,
   "metadata": {},
   "outputs": [
    {
     "data": {
      "text/plain": [
       "dict_keys(['elections', 'kind'])"
      ]
     },
     "execution_count": 44,
     "metadata": {},
     "output_type": "execute_result"
    }
   ],
   "source": [
    "elections.keys()"
   ]
  },
  {
   "cell_type": "code",
   "execution_count": 45,
   "metadata": {},
   "outputs": [
    {
     "data": {
      "text/plain": [
       "4"
      ]
     },
     "execution_count": 45,
     "metadata": {},
     "output_type": "execute_result"
    }
   ],
   "source": [
    "len(elections[\"elections\"])"
   ]
  },
  {
   "cell_type": "code",
   "execution_count": 46,
   "metadata": {},
   "outputs": [
    {
     "data": {
      "text/plain": [
       "[{'id': '2000',\n",
       "  'name': 'VIP Test Election',\n",
       "  'electionDay': '2021-06-06',\n",
       "  'ocdDivisionId': 'ocd-division/country:us'},\n",
       " {'id': '5016',\n",
       "  'name': 'Delaware State Primary Election',\n",
       "  'electionDay': '2020-09-15',\n",
       "  'ocdDivisionId': 'ocd-division/country:us/state:de'},\n",
       " {'id': '5018',\n",
       "  'name': 'Rhode Island State Primary Election',\n",
       "  'electionDay': '2020-09-08',\n",
       "  'ocdDivisionId': 'ocd-division/country:us/state:ri'},\n",
       " {'id': '7000',\n",
       "  'name': 'US 2020 General Election',\n",
       "  'electionDay': '2020-11-03',\n",
       "  'ocdDivisionId': 'ocd-division/country:us'}]"
      ]
     },
     "execution_count": 46,
     "metadata": {},
     "output_type": "execute_result"
    }
   ],
   "source": [
    "elections[\"elections\"]"
   ]
  },
  {
   "cell_type": "code",
   "execution_count": 48,
   "metadata": {},
   "outputs": [],
   "source": [
    "election_id = 2000"
   ]
  },
  {
   "cell_type": "markdown",
   "metadata": {},
   "source": [
    "## VoterInfo"
   ]
  },
  {
   "cell_type": "code",
   "execution_count": 101,
   "metadata": {},
   "outputs": [],
   "source": [
    "voterinfo_resp = google_session.get(\"https://www.googleapis.com/civicinfo/v2/voterinfo\",\n",
    "                                    params={\"address\":\"15032 Sussex St., 94131\",\n",
    "                                            \"electionId\": election_id\n",
    "                                           })\n",
    "voterinfo_resp.raise_for_status()\n",
    "voterinfo = voterinfo_resp.json()"
   ]
  },
  {
   "cell_type": "code",
   "execution_count": 102,
   "metadata": {},
   "outputs": [],
   "source": [
    "# response keys; responses may not have all keys\n",
    "voterinfo_keys = [\n",
    "    'kind', 'election', 'otherElections', 'normalizedInput', 'mailOnly',\n",
    "    'pollingLocations', 'earlyVotingSites', 'dropOffLocations', 'contests', 'state' ]"
   ]
  },
  {
   "cell_type": "code",
   "execution_count": 103,
   "metadata": {},
   "outputs": [],
   "source": [
    "def vi_markdown(vi, vik):\n",
    "    d = voterinfo.get(vik, None)\n",
    "    if d is None:\n",
    "        t = \"None\"\n",
    "    elif isinstance(d, list):\n",
    "        t = f\"list; {len(d)} elements\"\n",
    "    elif isinstance(d, dict):\n",
    "        t = f\"dict; {len(d.keys())} keys\"\n",
    "    else:\n",
    "        t = type(d).__name__\n",
    "    s = f\"#### {vik} ({t})\\n\\n\"\n",
    "    if d is not None:\n",
    "        s += \"```\\n\" + pprint.pformat(d) + \"\\n```\\n\"\n",
    "    return s\n",
    "\n",
    "def vi_display(vi, vik):\n",
    "    display(Markdown(vi_markdown(vi, vik)))"
   ]
  },
  {
   "cell_type": "code",
   "execution_count": 104,
   "metadata": {
    "scrolled": false
   },
   "outputs": [
    {
     "data": {
      "text/markdown": [
       "#### kind (str)\n",
       "\n",
       "```\n",
       "'civicinfo#voterInfoResponse'\n",
       "```\n"
      ],
      "text/plain": [
       "<IPython.core.display.Markdown object>"
      ]
     },
     "metadata": {},
     "output_type": "display_data"
    }
   ],
   "source": [
    "vi_display(voterinfo, \"kind\")"
   ]
  },
  {
   "cell_type": "code",
   "execution_count": 105,
   "metadata": {},
   "outputs": [
    {
     "data": {
      "text/markdown": [
       "#### election (dict; 4 keys)\n",
       "\n",
       "```\n",
       "{'electionDay': '2021-06-06',\n",
       " 'id': '2000',\n",
       " 'name': 'VIP Test Election',\n",
       " 'ocdDivisionId': 'ocd-division/country:us'}\n",
       "```\n"
      ],
      "text/plain": [
       "<IPython.core.display.Markdown object>"
      ]
     },
     "metadata": {},
     "output_type": "display_data"
    }
   ],
   "source": [
    "vi_display(voterinfo, \"election\")"
   ]
  },
  {
   "cell_type": "code",
   "execution_count": 106,
   "metadata": {},
   "outputs": [
    {
     "data": {
      "text/markdown": [
       "#### otherElections (None)\n",
       "\n"
      ],
      "text/plain": [
       "<IPython.core.display.Markdown object>"
      ]
     },
     "metadata": {},
     "output_type": "display_data"
    }
   ],
   "source": [
    "vi_display(voterinfo, \"otherElections\")"
   ]
  },
  {
   "cell_type": "code",
   "execution_count": 107,
   "metadata": {},
   "outputs": [
    {
     "data": {
      "text/markdown": [
       "#### normalizedInput (dict; 4 keys)\n",
       "\n",
       "```\n",
       "{'city': 'San Francisco',\n",
       " 'line1': '15032 Sussex Street',\n",
       " 'state': 'CA',\n",
       " 'zip': '94131'}\n",
       "```\n"
      ],
      "text/plain": [
       "<IPython.core.display.Markdown object>"
      ]
     },
     "metadata": {},
     "output_type": "display_data"
    }
   ],
   "source": [
    "vi_display(voterinfo, \"normalizedInput\")"
   ]
  },
  {
   "cell_type": "code",
   "execution_count": 98,
   "metadata": {},
   "outputs": [
    {
     "data": {
      "text/markdown": [
       "#### mailOnly (None)\n",
       "\n"
      ],
      "text/plain": [
       "<IPython.core.display.Markdown object>"
      ]
     },
     "metadata": {},
     "output_type": "display_data"
    }
   ],
   "source": [
    "vi_display(voterinfo, \"mailOnly\")"
   ]
  },
  {
   "cell_type": "code",
   "execution_count": 93,
   "metadata": {},
   "outputs": [
    {
     "data": {
      "text/markdown": [
       "#### pollingLocations (list; 1 elements)\n",
       "\n",
       "```\n",
       "[{'address': {'city': 'San Francisco',\n",
       "              'line1': '742 Chenery St',\n",
       "              'locationName': 'Garage',\n",
       "              'state': 'CA',\n",
       "              'zip': '94131-2907'},\n",
       "  'notes': 'Btw Lippard & Brompton Ave',\n",
       "  'pollingHours': '07:00-20:00',\n",
       "  'sources': [{'name': 'Voting Information Project', 'official': True}]}]\n",
       "```\n"
      ],
      "text/plain": [
       "<IPython.core.display.Markdown object>"
      ]
     },
     "metadata": {},
     "output_type": "display_data"
    }
   ],
   "source": [
    "vi_display(voterinfo, \"pollingLocations\")"
   ]
  },
  {
   "cell_type": "code",
   "execution_count": 94,
   "metadata": {},
   "outputs": [
    {
     "data": {
      "text/markdown": [
       "#### earlyVotingSites (None)\n",
       "\n"
      ],
      "text/plain": [
       "<IPython.core.display.Markdown object>"
      ]
     },
     "metadata": {},
     "output_type": "display_data"
    }
   ],
   "source": [
    "vi_display(voterinfo, \"earlyVotingSites\")"
   ]
  },
  {
   "cell_type": "code",
   "execution_count": 95,
   "metadata": {},
   "outputs": [
    {
     "data": {
      "text/markdown": [
       "#### dropOffLocations (None)\n",
       "\n"
      ],
      "text/plain": [
       "<IPython.core.display.Markdown object>"
      ]
     },
     "metadata": {},
     "output_type": "display_data"
    }
   ],
   "source": [
    "vi_display(voterinfo, \"dropOffLocations\")"
   ]
  },
  {
   "cell_type": "code",
   "execution_count": 97,
   "metadata": {},
   "outputs": [
    {
     "data": {
      "text/markdown": [
       "#### contests (list; 20 elements)\n",
       "\n",
       "```\n",
       "[{'candidates': [{'name': 'Nancy Pelosi', 'party': 'Democratic'},\n",
       "                 {'candidateUrl': 'http://www.johndennisforcongress.com/',\n",
       "                  'channels': [{'id': 'https://www.facebook.com/johndennis2010',\n",
       "                                'type': 'Facebook'},\n",
       "                               {'id': 'https://twitter.com/johndennis2012',\n",
       "                                'type': 'Twitter'}],\n",
       "                  'name': 'John Dennis',\n",
       "                  'party': 'Republican'}],\n",
       "  'district': {'id': 'ocd-division/country:us/state:ca/cd:12',\n",
       "               'name': \"California's 12th congressional district\",\n",
       "               'scope': 'congressional'},\n",
       "  'level': ['country'],\n",
       "  'office': 'US House - District 12',\n",
       "  'roles': ['legislatorLowerBody'],\n",
       "  'sources': [{'name': 'Ballot Information Project', 'official': False}],\n",
       "  'type': 'General'},\n",
       " {'candidates': [{'channels': [{'id': 'https://www.facebook.com/jerrybrown',\n",
       "                                'type': 'Facebook'},\n",
       "                               {'id': 'https://twitter.com/JerryBrownGov',\n",
       "                                'type': 'Twitter'},\n",
       "                               {'id': 'https://www.youtube.com/user/JerryBrown2010',\n",
       "                                'type': 'YouTube'}],\n",
       "                  'name': 'Edmund G. \"Jerry\" Brown',\n",
       "                  'party': 'Democratic'},\n",
       "                 {'candidateUrl': 'http://www.neelkashkari.com/',\n",
       "                  'channels': [{'id': 'https://www.facebook.com/neelkashkari',\n",
       "                                'type': 'Facebook'},\n",
       "                               {'id': 'https://twitter.com/neelkashkari',\n",
       "                                'type': 'Twitter'},\n",
       "                               {'id': 'https://www.youtube.com/channel/UCGhIiUj05N8mlUNeiKbYfsA',\n",
       "                                'type': 'YouTube'}],\n",
       "                  'name': 'Neel Kashkari',\n",
       "                  'party': 'Republican'}],\n",
       "  'district': {'id': 'ocd-division/country:us/state:ca',\n",
       "               'name': 'California',\n",
       "               'scope': 'statewide'},\n",
       "  'level': ['administrativeArea1'],\n",
       "  'office': 'Governor',\n",
       "  'roles': ['headOfGovernment'],\n",
       "  'sources': [{'name': 'Ballot Information Project', 'official': False}],\n",
       "  'type': 'General'},\n",
       " {'candidates': [{'candidateUrl': 'http://www.ronnehring.com/',\n",
       "                  'channels': [{'id': 'https://www.facebook.com/RonNehringCA',\n",
       "                                'type': 'Facebook'},\n",
       "                               {'id': 'https://twitter.com/RonNehring',\n",
       "                                'type': 'Twitter'},\n",
       "                               {'id': 'https://www.youtube.com/channel/UCFGwCF7iZWLP-j0dFWORvGQ',\n",
       "                                'type': 'YouTube'}],\n",
       "                  'name': 'Ron Nehring',\n",
       "                  'party': 'Republican'},\n",
       "                 {'candidateUrl': 'http://www.gavinnewsom.com/',\n",
       "                  'channels': [{'id': 'https://www.facebook.com/GavinNewsom',\n",
       "                                'type': 'Facebook'},\n",
       "                               {'id': 'https://twitter.com/GavinNewsom',\n",
       "                                'type': 'Twitter'},\n",
       "                               {'id': 'https://www.youtube.com/user/NewsomforCalifornia',\n",
       "                                'type': 'YouTube'}],\n",
       "                  'email': 'gavin@gavinnewsom.com',\n",
       "                  'name': 'Gavin Newsom',\n",
       "                  'party': 'Democratic',\n",
       "                  'phone': '(415) 963-9240'}],\n",
       "  'district': {'id': 'ocd-division/country:us/state:ca',\n",
       "               'name': 'California',\n",
       "               'scope': 'statewide'},\n",
       "  'level': ['administrativeArea1'],\n",
       "  'office': 'Lieutenant Governor',\n",
       "  'roles': ['deputyHeadOfGovernment'],\n",
       "  'sources': [{'name': 'Ballot Information Project', 'official': False}],\n",
       "  'type': 'General'},\n",
       " {'candidates': [{'candidateUrl': 'http://www.electjohnchiang.com/',\n",
       "                  'channels': [{'id': 'https://www.facebook.com/22930503694',\n",
       "                                'type': 'Facebook'},\n",
       "                               {'id': 'https://twitter.com/johnchiang4ca',\n",
       "                                'type': 'Twitter'},\n",
       "                               {'id': 'https://www.youtube.com/user/JohnChiang4CA',\n",
       "                                'type': 'YouTube'}],\n",
       "                  'email': 'ElectJohnChiang@gmail.com',\n",
       "                  'name': 'John Chiang',\n",
       "                  'party': 'Democratic'},\n",
       "                 {'candidateUrl': 'http://www.gregconlon.com/',\n",
       "                  'channels': [{'id': 'https://www.facebook.com/gregconlonforstatetreasurer',\n",
       "                                'type': 'Facebook'},\n",
       "                               {'id': 'https://twitter.com/GregConlon',\n",
       "                                'type': 'Twitter'},\n",
       "                               {'id': 'https://www.youtube.com/channel/UClllihMKVeAvNVsdYmo-frg',\n",
       "                                'type': 'YouTube'}],\n",
       "                  'email': 'gregconlonforstatetreasurer@yahoo.com',\n",
       "                  'name': 'Greg Conlon',\n",
       "                  'party': 'Republican',\n",
       "                  'phone': '916-850-2782'}],\n",
       "  'district': {'id': 'ocd-division/country:us/state:ca',\n",
       "               'name': 'California',\n",
       "               'scope': 'statewide'},\n",
       "  'level': ['administrativeArea1'],\n",
       "  'office': 'Treasurer',\n",
       "  'roles': ['governmentOfficer'],\n",
       "  'sources': [{'name': 'Ballot Information Project', 'official': False}],\n",
       "  'type': 'General'},\n",
       " {'candidates': [{'candidateUrl': 'http://www.rongold.org/',\n",
       "                  'channels': [{'id': 'https://www.youtube.com/channel/UC1Od8iX56vySEzXQJ3O8SMw',\n",
       "                                'type': 'YouTube'}],\n",
       "                  'name': 'Ronald Gold',\n",
       "                  'party': 'Republican'},\n",
       "                 {'candidateUrl': 'http://kamalaharris.org/',\n",
       "                  'channels': [{'id': 'https://www.facebook.com/KamalaHarris',\n",
       "                                'type': 'Facebook'},\n",
       "                               {'id': 'https://twitter.com/KamalaHarris',\n",
       "                                'type': 'Twitter'},\n",
       "                               {'id': 'https://www.youtube.com/user/kamalaharrisdotorg',\n",
       "                                'type': 'YouTube'}],\n",
       "                  'email': 'info@kamalaharris.org',\n",
       "                  'name': 'Kamala D. Harris',\n",
       "                  'party': 'Democratic',\n",
       "                  'phone': '(415) 364-8784'}],\n",
       "  'district': {'id': 'ocd-division/country:us/state:ca',\n",
       "               'name': 'California',\n",
       "               'scope': 'statewide'},\n",
       "  'level': ['administrativeArea1'],\n",
       "  'office': 'Attorney General',\n",
       "  'roles': ['governmentOfficer'],\n",
       "  'sources': [{'name': 'Ballot Information Project', 'official': False}],\n",
       "  'type': 'General'},\n",
       " {'candidates': [{'candidateUrl': 'http://www.padilla4sofs.com/',\n",
       "                  'channels': [{'id': 'https://www.facebook.com/senator.padilla',\n",
       "                                'type': 'Facebook'},\n",
       "                               {'id': 'https://twitter.com/SenAlexPadilla',\n",
       "                                'type': 'Twitter'},\n",
       "                               {'id': 'https://www.youtube.com/channel/UC8iDXwFo62EvFaNIrQln0vA',\n",
       "                                'type': 'YouTube'}],\n",
       "                  'name': 'Alex Padilla',\n",
       "                  'party': 'Democratic',\n",
       "                  'phone': '818-253-9140'},\n",
       "                 {'candidateUrl': 'http://www.petesos.com/',\n",
       "                  'channels': [{'id': 'https://www.facebook.com/PeteSOS',\n",
       "                                'type': 'Facebook'},\n",
       "                               {'id': 'https://twitter.com/Pete4SOS',\n",
       "                                'type': 'Twitter'}],\n",
       "                  'email': 'campaign@petesos.com',\n",
       "                  'name': 'Pete Peterson',\n",
       "                  'party': 'Republican',\n",
       "                  'phone': '323-450-7536'}],\n",
       "  'district': {'id': 'ocd-division/country:us/state:ca',\n",
       "               'name': 'California',\n",
       "               'scope': 'statewide'},\n",
       "  'level': ['administrativeArea1'],\n",
       "  'office': 'Secretary of State',\n",
       "  'roles': ['governmentOfficer'],\n",
       "  'sources': [{'name': 'Ballot Information Project', 'official': False}],\n",
       "  'type': 'General'},\n",
       " {'candidates': [{'candidateUrl': 'http://www.tomtorlakson.com/',\n",
       "                  'channels': [{'id': 'https://www.facebook.com/torlakson',\n",
       "                                'type': 'Facebook'},\n",
       "                               {'id': 'https://twitter.com/TomTorlakson',\n",
       "                                'type': 'Twitter'},\n",
       "                               {'id': 'https://www.youtube.com/user/tomtorlakson',\n",
       "                                'type': 'YouTube'}],\n",
       "                  'name': 'Tom Torlakson',\n",
       "                  'party': 'Nonpartisan',\n",
       "                  'phone': '925-386-6774'},\n",
       "                 {'candidateUrl': 'http://www.marshalltuck.com/',\n",
       "                  'channels': [{'id': 'https://www.facebook.com/TuckforCalifornia',\n",
       "                                'type': 'Facebook'},\n",
       "                               {'id': 'https://twitter.com/MarshallTuck',\n",
       "                                'type': 'Twitter'},\n",
       "                               {'id': 'https://www.youtube.com/channel/UCAd4z6Ea8kBxxI-O0f1SbiA',\n",
       "                                'type': 'YouTube'}],\n",
       "                  'name': 'Marshall Tuck',\n",
       "                  'party': 'Nonpartisan'}],\n",
       "  'district': {'id': 'ocd-division/country:us/state:ca',\n",
       "               'name': 'California',\n",
       "               'scope': 'statewide'},\n",
       "  'level': ['administrativeArea1'],\n",
       "  'office': 'Superintendent of Public Instruction',\n",
       "  'roles': ['governmentOfficer'],\n",
       "  'sources': [{'name': 'Ballot Information Project', 'official': False}],\n",
       "  'type': 'General'},\n",
       " {'candidates': [{'candidateUrl': 'http://www.tedgaines.com/',\n",
       "                  'channels': [{'id': 'https://www.facebook.com/ted.gaines',\n",
       "                                'type': 'Facebook'},\n",
       "                               {'id': 'https://twitter.com/TedGaines',\n",
       "                                'type': 'Twitter'},\n",
       "                               {'id': 'https://www.youtube.com/user/GainesForIC2014',\n",
       "                                'type': 'YouTube'}],\n",
       "                  'name': 'Ted Gaines',\n",
       "                  'party': 'Republican',\n",
       "                  'phone': '916-221-5770'},\n",
       "                 {'candidateUrl': 'http://www.davejones2014.com/',\n",
       "                  'channels': [{'id': 'https://www.facebook.com/239029093423',\n",
       "                                'type': 'Facebook'}],\n",
       "                  'email': 'TeamDaveJones@gmail.com',\n",
       "                  'name': 'Dave Jones',\n",
       "                  'party': 'Democratic',\n",
       "                  'phone': '(916) 349-4236'}],\n",
       "  'district': {'id': 'ocd-division/country:us/state:ca',\n",
       "               'name': 'California',\n",
       "               'scope': 'statewide'},\n",
       "  'level': ['administrativeArea1'],\n",
       "  'office': 'Insurance Commissioner',\n",
       "  'roles': ['governmentOfficer'],\n",
       "  'sources': [{'name': 'Ballot Information Project', 'official': False}],\n",
       "  'type': 'General'},\n",
       " {'candidates': [{'candidateUrl': 'http://www.ashleyforca.com/',\n",
       "                  'channels': [{'id': 'https://www.facebook.com/ashleyswearengin',\n",
       "                                'type': 'Facebook'},\n",
       "                               {'id': 'https://twitter.com/Ashley4CA',\n",
       "                                'type': 'Twitter'},\n",
       "                               {'id': 'https://www.youtube.com/channel/UC9Tc_GLpw5X7t_gg-Q51eKw',\n",
       "                                'type': 'YouTube'}],\n",
       "                  'name': 'Ashley Swearengin',\n",
       "                  'party': 'Republican',\n",
       "                  'phone': '(559) 565-5066'},\n",
       "                 {'candidateUrl': 'http://bettyyee.com/',\n",
       "                  'channels': [{'id': 'https://www.facebook.com/BettyYee2014',\n",
       "                                'type': 'Facebook'},\n",
       "                               {'id': 'https://twitter.com/bettyyee2014',\n",
       "                                'type': 'Twitter'}],\n",
       "                  'email': 'info@bettyyee.com',\n",
       "                  'name': 'Betty T. Yee',\n",
       "                  'party': 'Democratic',\n",
       "                  'phone': '(415) 692-3556'}],\n",
       "  'district': {'id': 'ocd-division/country:us/state:ca',\n",
       "               'name': 'California',\n",
       "               'scope': 'statewide'},\n",
       "  'level': ['administrativeArea1'],\n",
       "  'office': 'Controller',\n",
       "  'roles': ['governmentOfficer'],\n",
       "  'sources': [{'name': 'Ballot Information Project', 'official': False}],\n",
       "  'type': 'General'},\n",
       " {'candidates': [{'name': 'Goodwin Liu', 'party': 'Nonpartisan'},\n",
       "                 {'name': 'Kathryn Mickle Werdegar', 'party': 'Nonpartisan'},\n",
       "                 {'name': 'Mariano-Florentino Cuellar',\n",
       "                  'party': 'Nonpartisan'}],\n",
       "  'district': {'id': 'ocd-division/country:us/state:ca',\n",
       "               'name': 'California',\n",
       "               'scope': 'statewide'},\n",
       "  'level': ['administrativeArea1'],\n",
       "  'office': 'Supreme Court Associate Justice (Retention)',\n",
       "  'roles': ['highestCourtJudge'],\n",
       "  'sources': [{'name': 'Ballot Information Project', 'official': False}],\n",
       "  'type': 'General'},\n",
       " {'candidates': [{'candidateUrl': 'http://www.davidcampossf.com/',\n",
       "                  'channels': [{'id': 'https://www.facebook.com/davidcampossf',\n",
       "                                'type': 'Facebook'},\n",
       "                               {'id': 'https://twitter.com/davidcampossf',\n",
       "                                'type': 'Twitter'}],\n",
       "                  'name': 'David Campos',\n",
       "                  'party': 'Democratic'},\n",
       "                 {'candidateUrl': 'http://www.votedavidchiu.com/',\n",
       "                  'channels': [{'id': 'https://www.facebook.com/davidchiu.sf',\n",
       "                                'type': 'Facebook'},\n",
       "                               {'id': 'https://twitter.com/davidchiu',\n",
       "                                'type': 'Twitter'}],\n",
       "                  'name': 'David Chiu',\n",
       "                  'party': 'Democratic'}],\n",
       "  'district': {'id': 'ocd-division/country:us/state:ca/sldl:17',\n",
       "               'name': 'California Assembly district 17',\n",
       "               'scope': 'stateLower'},\n",
       "  'level': ['administrativeArea1'],\n",
       "  'office': 'State Assembly -  District 17',\n",
       "  'roles': ['legislatorLowerBody'],\n",
       "  'sources': [{'name': 'Ballot Information Project', 'official': False}],\n",
       "  'type': 'General'},\n",
       " {'candidates': [{'name': 'Carmen Chu', 'party': 'Nonpartisan'}],\n",
       "  'district': {'id': 'ocd-division/country:us/state:ca/county:san_francisco',\n",
       "               'name': 'San Francisco County',\n",
       "               'scope': 'countywide'},\n",
       "  'level': ['administrativeArea2'],\n",
       "  'office': 'Assessor/Recorder',\n",
       "  'roles': ['governmentOfficer'],\n",
       "  'sources': [{'name': 'Ballot Information Project', 'official': False}],\n",
       "  'type': 'General'},\n",
       " {'candidates': [{'name': 'Jeff Adachi', 'party': 'Nonpartisan'}],\n",
       "  'district': {'id': 'ocd-division/country:us/state:ca/county:san_francisco',\n",
       "               'name': 'San Francisco County',\n",
       "               'scope': 'countywide'},\n",
       "  'level': ['administrativeArea2'],\n",
       "  'office': 'Public Defender',\n",
       "  'roles': ['governmentOfficer'],\n",
       "  'sources': [{'name': 'Ballot Information Project', 'official': False}],\n",
       "  'type': 'General'},\n",
       " {'candidates': [{'name': 'George Davis', 'party': 'Nonpartisan'},\n",
       "                 {'channels': [{'id': 'https://www.facebook.com/johnnultysupervisor',\n",
       "                                'type': 'Facebook'}],\n",
       "                  'name': 'John Nulty',\n",
       "                  'party': 'Nonpartisan'},\n",
       "                 {'channels': [{'id': 'https://www.facebook.com/petrelis4supe8',\n",
       "                                'type': 'Facebook'}],\n",
       "                  'name': 'Michael Petrelis',\n",
       "                  'party': 'Nonpartisan'},\n",
       "                 {'name': 'Scott Wiener', 'party': 'Nonpartisan'},\n",
       "                 {'name': 'Tom Wayne Basso', 'party': 'Nonpartisan'}],\n",
       "  'district': {'id': 'ocd-division/country:us/state:ca/county:san_francisco/council_district:8',\n",
       "               'name': 'San Francisco CA city-county council district 8',\n",
       "               'scope': 'countyCouncil'},\n",
       "  'level': ['administrativeArea2'],\n",
       "  'office': 'Supervisor District 8',\n",
       "  'roles': ['legislatorUpperBody'],\n",
       "  'sources': [{'name': 'Ballot Information Project', 'official': False}],\n",
       "  'type': 'General'},\n",
       " {'district': {'id': 'ocd-division/country:us/state:ca',\n",
       "               'name': 'California',\n",
       "               'scope': 'statewide'},\n",
       "  'referendumSubtitle': 'Water Bond. Funding for Water Quality, Supply, '\n",
       "                        'Treatment, and Storage Projects.',\n",
       "  'referendumTitle': 'Proposition 1',\n",
       "  'referendumUrl': 'http://vig.cdn.sos.ca.gov/2014/general/en/pdf/proposition-1-title-summary-analysis-v2.pdf',\n",
       "  'sources': [{'name': 'Ballot Information Project', 'official': False}],\n",
       "  'type': 'Referendum'},\n",
       " {'district': {'id': 'ocd-division/country:us/state:ca',\n",
       "               'name': 'California',\n",
       "               'scope': 'statewide'},\n",
       "  'referendumSubtitle': 'State Budget. Budget Stabilization Account. '\n",
       "                        'Legislative Constitutional Amendment.',\n",
       "  'referendumTitle': 'Proposition 2',\n",
       "  'referendumUrl': 'http://vig.cdn.sos.ca.gov/2014/general/en/pdf/proposition-2-title-summary-analysis.pdf',\n",
       "  'sources': [{'name': 'Ballot Information Project', 'official': False}],\n",
       "  'type': 'Referendum'},\n",
       " {'district': {'id': 'ocd-division/country:us/state:ca',\n",
       "               'name': 'California',\n",
       "               'scope': 'statewide'},\n",
       "  'referendumSubtitle': 'Healthcare Insurance. Rate Changes. Initiative '\n",
       "                        'Statute.',\n",
       "  'referendumTitle': 'Proposition 45',\n",
       "  'referendumUrl': 'http://vig.cdn.sos.ca.gov/2014/general/en/pdf/proposition-45-title-summary-analysis.pdf',\n",
       "  'sources': [{'name': 'Ballot Information Project', 'official': False}],\n",
       "  'type': 'Referendum'},\n",
       " {'district': {'id': 'ocd-division/country:us/state:ca',\n",
       "               'name': 'California',\n",
       "               'scope': 'statewide'},\n",
       "  'referendumSubtitle': 'Drug and Alcohol Testing of Doctors. Medical '\n",
       "                        'Negligence Lawsuits. Initiative Statute.',\n",
       "  'referendumTitle': 'Proposition 46',\n",
       "  'referendumUrl': 'http://vig.cdn.sos.ca.gov/2014/general/en/pdf/proposition-46-title-summary-analysis.pdf',\n",
       "  'sources': [{'name': 'Ballot Information Project', 'official': False}],\n",
       "  'type': 'Referendum'},\n",
       " {'district': {'id': 'ocd-division/country:us/state:ca',\n",
       "               'name': 'California',\n",
       "               'scope': 'statewide'},\n",
       "  'referendumSubtitle': 'Criminal Sentences. Misdemeanor Penalties. Initiative '\n",
       "                        'Statute.',\n",
       "  'referendumTitle': 'Proposition 47',\n",
       "  'referendumUrl': 'http://vig.cdn.sos.ca.gov/2014/general/en/pdf/proposition-47-title-summary-analysis.pdf',\n",
       "  'sources': [{'name': 'Ballot Information Project', 'official': False}],\n",
       "  'type': 'Referendum'},\n",
       " {'district': {'id': 'ocd-division/country:us/state:ca',\n",
       "               'name': 'California',\n",
       "               'scope': 'statewide'},\n",
       "  'referendumSubtitle': 'Indian Gaming Compacts. Referendum.',\n",
       "  'referendumTitle': 'Proposition 48',\n",
       "  'referendumUrl': 'http://vig.cdn.sos.ca.gov/2014/general/en/pdf/proposition-48-title-summary-analysis.pdf',\n",
       "  'sources': [{'name': 'Ballot Information Project', 'official': False}],\n",
       "  'type': 'Referendum'}]\n",
       "```\n"
      ],
      "text/plain": [
       "<IPython.core.display.Markdown object>"
      ]
     },
     "metadata": {},
     "output_type": "display_data"
    }
   ],
   "source": [
    "vi_display(voterinfo, \"contests\")"
   ]
  },
  {
   "cell_type": "code",
   "execution_count": 100,
   "metadata": {},
   "outputs": [
    {
     "data": {
      "text/markdown": [
       "#### state (list; 1 elements)\n",
       "\n",
       "```\n",
       "[{'electionAdministrationBody': {'ballotInfoUrl': 'https://www.sos.ca.gov/elections/polling-place/',\n",
       "                                 'correspondenceAddress': {'city': 'Sacramento',\n",
       "                                                           'line1': '1500 11th '\n",
       "                                                                    'Street',\n",
       "                                                           'state': 'California',\n",
       "                                                           'zip': '95814-5701'},\n",
       "                                 'electionInfoUrl': 'http://www.sos.ca.gov/elections',\n",
       "                                 'name': 'California Secretary of State',\n",
       "                                 'votingLocationFinderUrl': 'https://www.sos.ca.gov/elections/polling-place/'},\n",
       "  'local_jurisdiction': {'electionAdministrationBody': {'electionInfoUrl': 'http://sfelections.org',\n",
       "                                                        'electionOfficials': [{'emailAddress': 'sfvote@sfgov.org',\n",
       "                                                                               'officePhoneNumber': '(415) '\n",
       "                                                                                                    '554-4375'}],\n",
       "                                                        'physicalAddress': {'city': 'SAN '\n",
       "                                                                                    'FRANCISCO',\n",
       "                                                                            'line1': 'CITY '\n",
       "                                                                                     'HALL '\n",
       "                                                                                     '- '\n",
       "                                                                                     '1 '\n",
       "                                                                                     'DR. '\n",
       "                                                                                     'CARLTON '\n",
       "                                                                                     'B '\n",
       "                                                                                     'GOODLETT '\n",
       "                                                                                     'PLACE, '\n",
       "                                                                                     'ROOM '\n",
       "                                                                                     '48',\n",
       "                                                                            'state': 'CA',\n",
       "                                                                            'zip': '94102-4635'}},\n",
       "                         'name': 'San Francisco County',\n",
       "                         'sources': [{'name': 'DemocracyWorks',\n",
       "                                      'official': False}]},\n",
       "  'name': 'California',\n",
       "  'sources': [{'name': '', 'official': False}]}]\n",
       "```\n"
      ],
      "text/plain": [
       "<IPython.core.display.Markdown object>"
      ]
     },
     "metadata": {},
     "output_type": "display_data"
    }
   ],
   "source": [
    "vi_display(voterinfo, \"state\")"
   ]
  },
  {
   "cell_type": "markdown",
   "metadata": {},
   "source": [
    "## Partial Queries"
   ]
  },
  {
   "cell_type": "code",
   "execution_count": 123,
   "metadata": {},
   "outputs": [
    {
     "data": {
      "text/plain": [
       "{'pollingLocations': [{'address': {'locationName': 'Garage',\n",
       "    'line1': '742 Chenery St',\n",
       "    'city': 'San Francisco',\n",
       "    'state': 'CA',\n",
       "    'zip': '94131-2907'},\n",
       "   'notes': 'Btw Lippard & Brompton Ave',\n",
       "   'pollingHours': '07:00-20:00',\n",
       "   'sources': [{'name': 'Voting Information Project', 'official': True}]}]}"
      ]
     },
     "execution_count": 123,
     "metadata": {},
     "output_type": "execute_result"
    }
   ],
   "source": [
    "params={\"address\":\"1 Sussex St., 94131\", \"electionId\": election_id}\n",
    "google_session.get(\"https://www.googleapis.com/civicinfo/v2/voterinfo\",\n",
    "                   params={**params, \"fields\": \"pollingLocations,earlyVoteSites,dropOffLocations\"}).json()"
   ]
  },
  {
   "cell_type": "code",
   "execution_count": null,
   "metadata": {},
   "outputs": [],
   "source": []
  }
 ],
 "metadata": {
  "kernelspec": {
   "display_name": "Python 3",
   "language": "python",
   "name": "python3"
  },
  "language_info": {
   "codemirror_mode": {
    "name": "ipython",
    "version": 3
   },
   "file_extension": ".py",
   "mimetype": "text/x-python",
   "name": "python",
   "nbconvert_exporter": "python",
   "pygments_lexer": "ipython3",
   "version": "3.8.2"
  }
 },
 "nbformat": 4,
 "nbformat_minor": 4
}
