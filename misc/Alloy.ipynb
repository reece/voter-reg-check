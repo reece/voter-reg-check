{
 "cells": [
  {
   "cell_type": "markdown",
   "metadata": {},
   "source": [
    "https://docs.alloy.us/api/#section/Sandbox"
   ]
  },
  {
   "cell_type": "code",
   "execution_count": 7,
   "metadata": {},
   "outputs": [],
   "source": [
    "import json\n",
    "import os\n",
    "import requests\n",
    "\n",
    "cred_fn = os.path.expanduser(\"~/.credentials/alloy-sandbox-landslide.json\")\n",
    "credentials = json.load(open(cred_fn))\n",
    "auth=(credentials[\"key\"], credentials[\"secret\"])"
   ]
  },
  {
   "cell_type": "code",
   "execution_count": 8,
   "metadata": {},
   "outputs": [],
   "source": [
    "params = {\n",
    "    \"first_name\": \"George\",\n",
    "    \"last_name\": \"Washington\",\n",
    "    \"address\": \"3200 Mount Vernon\",\n",
    "    \"city\": \"Mount Vernon\",\n",
    "    \"state\": \"VA\",\n",
    "    \"zip\": 22121,\n",
    "    \"birth_date\": \"1732-02-22\"\n",
    "}"
   ]
  },
  {
   "cell_type": "code",
   "execution_count": 9,
   "metadata": {},
   "outputs": [],
   "source": [
    "params = {\n",
    "    \"first_name\": \"Reece\",\n",
    "    \"last_name\": \"Hart\",\n",
    "    \"address\": \"1 Sussex St.\",\n",
    "    \"city\": \"San Francisco\",\n",
    "    \"state\": \"CA\",\n",
    "    \"zip\": 94131,\n",
    "    \"birth_date\": \"1968-11-22\"\n",
    "}"
   ]
  },
  {
   "cell_type": "code",
   "execution_count": 10,
   "metadata": {},
   "outputs": [
    {
     "data": {
      "text/plain": [
       "{'api_version': 'v1',\n",
       " 'data': {'registration_status': None,\n",
       "  'registration_date': None,\n",
       "  'registration_changed_date': None,\n",
       "  'created_date': '0001-01-01T00:00:00Z',\n",
       "  'updated_date': '0001-01-01T00:00:00Z',\n",
       "  'last_updated_date': None,\n",
       "  'id': 'a7e55911-3ec6-4929-8322-dc8ee1e0bab0',\n",
       "  'alloy_person_id': None,\n",
       "  'first_name': 'REECE',\n",
       "  'middle_name': '',\n",
       "  'last_name': 'HART',\n",
       "  'suffix': '',\n",
       "  'birth_date': '1968-11-22',\n",
       "  'zip': '94131',\n",
       "  'address': '1 SUSSEX ST.',\n",
       "  'city': 'SAN FRANCISCO',\n",
       "  'state': 'CA',\n",
       "  'phone_num': '',\n",
       "  'submitted_registration_date': ''},\n",
       " 'error': None}"
      ]
     },
     "execution_count": 10,
     "metadata": {},
     "output_type": "execute_result"
    }
   ],
   "source": [
    "# verify\n",
    "res = requests.get(\"https://api.alloy.us/v1/verify\", auth=auth, params=params)\n",
    "res.raise_for_status()\n",
    "res.json()"
   ]
  },
  {
   "cell_type": "code",
   "execution_count": 5,
   "metadata": {},
   "outputs": [
    {
     "data": {
      "text/plain": [
       "{'api_version': 'v1',\n",
       " 'data': {'id': '66b9160c-8a30-4967-9c83-1115570fe1df',\n",
       "  'alloy_person_id': 68366232,\n",
       "  'first_name': 'REECE',\n",
       "  'middle_name': '',\n",
       "  'last_name': 'HART',\n",
       "  'suffix': '',\n",
       "  'birth_date': '1968-11-22',\n",
       "  'zip': '94131',\n",
       "  'address': '1 SUSSEX ST.',\n",
       "  'city': 'SAN FRANCISCO',\n",
       "  'state': 'CA',\n",
       "  'phone_num': '',\n",
       "  'submitted_registration_date': '',\n",
       "  'created_date': '2020-08-12T20:43:15.352527Z',\n",
       "  'updated_date': '2020-08-12T20:43:15.352527Z',\n",
       "  'permanent_absentee': None},\n",
       " 'error': None}"
      ]
     },
     "execution_count": 5,
     "metadata": {},
     "output_type": "execute_result"
    }
   ],
   "source": [
    "# vbm verify\n",
    "res = requests.get(\"https://api.alloy.us/v2/vbm/verify\", auth=auth, params=params)\n",
    "res.raise_for_status()\n",
    "res.json()"
   ]
  },
  {
   "cell_type": "code",
   "execution_count": 6,
   "metadata": {},
   "outputs": [
    {
     "data": {
      "text/plain": [
       "{'api_version': 'v1',\n",
       " 'data': {'data_freshness': {'CA': '2020-08-06T00:00:00Z',\n",
       "   'VA': '2020-08-07T00:00:00Z'}},\n",
       " 'error': None}"
      ]
     },
     "execution_count": 6,
     "metadata": {},
     "output_type": "execute_result"
    }
   ],
   "source": [
    "# meta data\n",
    "res = requests.get(\"https://api.alloy.us/v1/voter-metadata\", auth=auth)\n",
    "res.raise_for_status()\n",
    "res.json()"
   ]
  },
  {
   "cell_type": "code",
   "execution_count": 7,
   "metadata": {},
   "outputs": [
    {
     "data": {
      "text/plain": [
       "{'api_version': 'v1',\n",
       " 'data': {'items': [{'registration_status': 'ZIP Not Yet Supported',\n",
       "    'registration_date': None,\n",
       "    'registration_changed_date': None,\n",
       "    'created_date': '2020-08-12T20:43:15.352527Z',\n",
       "    'updated_date': '2020-08-12T20:43:15.352527Z',\n",
       "    'last_updated_date': None,\n",
       "    'id': '6144049a-0e96-4570-bb70-db0e77bfbb5d',\n",
       "    'alloy_person_id': None,\n",
       "    'first_name': 'GEORGE',\n",
       "    'middle_name': '',\n",
       "    'last_name': 'WASHINGTON',\n",
       "    'suffix': '',\n",
       "    'birth_date': '1732-02-22',\n",
       "    'zip': '22121',\n",
       "    'address': '3200 MOUNT VERNON',\n",
       "    'city': 'MOUNT VERNON',\n",
       "    'state': 'VA',\n",
       "    'phone_num': '',\n",
       "    'submitted_registration_date': ''},\n",
       "   {'registration_status': 'ZIP Not Yet Supported',\n",
       "    'registration_date': None,\n",
       "    'registration_changed_date': None,\n",
       "    'created_date': '2020-08-12T20:43:15.352527Z',\n",
       "    'updated_date': '2020-08-12T20:43:15.352527Z',\n",
       "    'last_updated_date': None,\n",
       "    'id': '66b9160c-8a30-4967-9c83-1115570fe1df',\n",
       "    'alloy_person_id': None,\n",
       "    'first_name': 'REECE',\n",
       "    'middle_name': '',\n",
       "    'last_name': 'HART',\n",
       "    'suffix': '',\n",
       "    'birth_date': '1968-11-22',\n",
       "    'zip': '94131',\n",
       "    'address': '1 SUSSEX ST.',\n",
       "    'city': 'SAN FRANCISCO',\n",
       "    'state': 'CA',\n",
       "    'phone_num': '',\n",
       "    'submitted_registration_date': ''}]},\n",
       " 'error': None}"
      ]
     },
     "execution_count": 7,
     "metadata": {},
     "output_type": "execute_result"
    }
   ],
   "source": [
    "# get voters\n",
    "res = requests.get(\"https://api.alloy.us/v1/voters\", auth=auth)\n",
    "res.raise_for_status()\n",
    "res.json()"
   ]
  },
  {
   "cell_type": "code",
   "execution_count": null,
   "metadata": {},
   "outputs": [],
   "source": []
  }
 ],
 "metadata": {
  "kernelspec": {
   "display_name": "Python 3",
   "language": "python",
   "name": "python3"
  },
  "language_info": {
   "codemirror_mode": {
    "name": "ipython",
    "version": 3
   },
   "file_extension": ".py",
   "mimetype": "text/x-python",
   "name": "python",
   "nbconvert_exporter": "python",
   "pygments_lexer": "ipython3",
   "version": "3.8.2"
  }
 },
 "nbformat": 4,
 "nbformat_minor": 4
}
