{
 "cells": [
  {
   "cell_type": "markdown",
   "metadata": {},
   "source": [
    "https://docs.alloy.us/api/#section/Sandbox"
   ]
  },
  {
   "cell_type": "code",
   "execution_count": 13,
   "metadata": {},
   "outputs": [],
   "source": [
    "import json\n",
    "import requests\n",
    "\n",
    "credentials = json.load(open(\"../private/landslide-sandbox.json\"))\n",
    "auth=(credentials[\"key\"], credentials[\"secret\"])"
   ]
  },
  {
   "cell_type": "code",
   "execution_count": 14,
   "metadata": {},
   "outputs": [],
   "source": [
    "params = {\n",
    "    \"first_name\": \"George\",\n",
    "    \"last_name\": \"Washington\",\n",
    "    \"address\": \"3200 Mount Vernon\",\n",
    "    \"city\": \"Mount Vernon\",\n",
    "    \"state\": \"VA\",\n",
    "    \"zip\": 22121,\n",
    "    \"birth_date\": \"1732-02-22\"\n",
    "}"
   ]
  },
  {
   "cell_type": "code",
   "execution_count": 21,
   "metadata": {},
   "outputs": [
    {
     "data": {
      "text/plain": [
       "{'api_version': 'v1',\n",
       " 'data': {'registration_status': None,\n",
       "  'registration_date': None,\n",
       "  'registration_changed_date': None,\n",
       "  'created_date': '2020-07-29T19:27:47.542852Z',\n",
       "  'updated_date': '2020-07-29T19:27:47.542852Z',\n",
       "  'last_updated_date': None,\n",
       "  'id': '7dda43c1-63a2-4828-a023-96e73a27d00d',\n",
       "  'alloy_person_id': None,\n",
       "  'first_name': 'GEORGE',\n",
       "  'middle_name': '',\n",
       "  'last_name': 'WASHINGTON',\n",
       "  'suffix': '',\n",
       "  'birth_date': '1732-02-22',\n",
       "  'zip': '22121',\n",
       "  'address': '3200 MOUNT VERNON',\n",
       "  'city': 'MOUNT VERNON',\n",
       "  'state': 'VA',\n",
       "  'phone_num': '',\n",
       "  'submitted_registration_date': ''},\n",
       " 'error': None}"
      ]
     },
     "execution_count": 21,
     "metadata": {},
     "output_type": "execute_result"
    }
   ],
   "source": [
    "# verify\n",
    "res = requests.get(\"https://api.alloy.us/v1/verify\", auth=auth, params=params)\n",
    "res.raise_for_status()\n",
    "res.json()"
   ]
  },
  {
   "cell_type": "code",
   "execution_count": 22,
   "metadata": {},
   "outputs": [
    {
     "data": {
      "text/plain": [
       "{'api_version': 'v1',\n",
       " 'data': {'id': '7dda43c1-63a2-4828-a023-96e73a27d00d',\n",
       "  'alloy_person_id': None,\n",
       "  'first_name': 'GEORGE',\n",
       "  'middle_name': '',\n",
       "  'last_name': 'WASHINGTON',\n",
       "  'suffix': '',\n",
       "  'birth_date': '1732-02-22',\n",
       "  'zip': '22121',\n",
       "  'address': '3200 MOUNT VERNON',\n",
       "  'city': 'MOUNT VERNON',\n",
       "  'state': 'VA',\n",
       "  'phone_num': '',\n",
       "  'submitted_registration_date': '',\n",
       "  'created_date': '2020-07-29T19:27:47.542852Z',\n",
       "  'updated_date': '2020-07-29T19:27:47.542852Z',\n",
       "  'permanent_absentee': None},\n",
       " 'error': None}"
      ]
     },
     "execution_count": 22,
     "metadata": {},
     "output_type": "execute_result"
    }
   ],
   "source": [
    "# vbm verify\n",
    "res = requests.get(\"https://api.alloy.us/v2/vbm/verify\", auth=auth, params=params)\n",
    "res.raise_for_status()\n",
    "res.json()"
   ]
  },
  {
   "cell_type": "code",
   "execution_count": 23,
   "metadata": {},
   "outputs": [
    {
     "data": {
      "text/plain": [
       "{'api_version': 'v1',\n",
       " 'data': {'data_freshness': {'AL': '2020-07-29T00:00:00Z',\n",
       "   'VA': '2020-07-29T00:00:00Z'}},\n",
       " 'error': None}"
      ]
     },
     "execution_count": 23,
     "metadata": {},
     "output_type": "execute_result"
    }
   ],
   "source": [
    "# meta data\n",
    "res = requests.get(\"https://api.alloy.us/v1/voter-metadata\", auth=auth)\n",
    "res.raise_for_status()\n",
    "res.json()"
   ]
  },
  {
   "cell_type": "code",
   "execution_count": 24,
   "metadata": {},
   "outputs": [
    {
     "data": {
      "text/plain": [
       "{'api_version': 'v1',\n",
       " 'data': {'items': [{'registration_status': 'Active',\n",
       "    'registration_date': '2012-11-09T08:52:37.791Z',\n",
       "    'registration_changed_date': None,\n",
       "    'created_date': '2020-07-29T19:27:47.542852Z',\n",
       "    'updated_date': '2020-07-29T19:27:47.542852Z',\n",
       "    'last_updated_date': '2020-07-29T19:58:28.427212019Z',\n",
       "    'id': '511f9665-a35c-4261-8c99-04157b1532c0',\n",
       "    'alloy_person_id': None,\n",
       "    'first_name': 'RON',\n",
       "    'middle_name': '',\n",
       "    'last_name': 'TSOSIE',\n",
       "    'suffix': '',\n",
       "    'birth_date': '1963-09-28',\n",
       "    'zip': '36109',\n",
       "    'address': '1299 TAYLOR ST',\n",
       "    'city': 'MONTGOMERY',\n",
       "    'state': 'AL',\n",
       "    'phone_num': '',\n",
       "    'submitted_registration_date': ''},\n",
       "   {'registration_status': None,\n",
       "    'registration_date': None,\n",
       "    'registration_changed_date': None,\n",
       "    'created_date': '2020-07-29T19:27:47.542852Z',\n",
       "    'updated_date': '2020-07-29T19:27:47.542852Z',\n",
       "    'last_updated_date': None,\n",
       "    'id': '7dda43c1-63a2-4828-a023-96e73a27d00d',\n",
       "    'alloy_person_id': None,\n",
       "    'first_name': 'GEORGE',\n",
       "    'middle_name': '',\n",
       "    'last_name': 'WASHINGTON',\n",
       "    'suffix': '',\n",
       "    'birth_date': '1732-02-22',\n",
       "    'zip': '22121',\n",
       "    'address': '3200 MOUNT VERNON',\n",
       "    'city': 'MOUNT VERNON',\n",
       "    'state': 'VA',\n",
       "    'phone_num': '',\n",
       "    'submitted_registration_date': ''}]},\n",
       " 'error': None}"
      ]
     },
     "execution_count": 24,
     "metadata": {},
     "output_type": "execute_result"
    }
   ],
   "source": [
    "# get voters\n",
    "res = requests.get(\"https://api.alloy.us/v1/voters\", auth=auth)\n",
    "res.raise_for_status()\n",
    "res.json()"
   ]
  },
  {
   "cell_type": "code",
   "execution_count": null,
   "metadata": {},
   "outputs": [],
   "source": []
  }
 ],
 "metadata": {
  "kernelspec": {
   "display_name": "Python 3",
   "language": "python",
   "name": "python3"
  },
  "language_info": {
   "codemirror_mode": {
    "name": "ipython",
    "version": 3
   },
   "file_extension": ".py",
   "mimetype": "text/x-python",
   "name": "python",
   "nbconvert_exporter": "python",
   "pygments_lexer": "ipython3",
   "version": "3.8.2"
  }
 },
 "nbformat": 4,
 "nbformat_minor": 4
}
